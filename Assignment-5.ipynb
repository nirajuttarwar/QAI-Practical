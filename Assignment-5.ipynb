{
 "cells": [
  {
   "cell_type": "markdown",
   "id": "8fa8ba2d",
   "metadata": {},
   "source": [
    "# QAI Assignment-5"
   ]
  },
  {
   "cell_type": "code",
   "execution_count": 17,
   "id": "384c1cba",
   "metadata": {},
   "outputs": [
    {
     "name": "stdout",
     "output_type": "stream",
     "text": [
      "Solved: True\n"
     ]
    }
   ],
   "source": [
    "import qiskit as q\n",
    "from qiskit import QuantumCircuit\n",
    "from qiskit.compiler import transpile\n",
    "\n",
    "def three_puzzle_circuit():\n",
    "    \"\"\"Creates a quantum circuit for the 3-puzzle problem.\"\"\"\n",
    "    circuit = QuantumCircuit(3)\n",
    "\n",
    "    # Initialize the puzzle to be unsolved.\n",
    "    circuit.x(0)\n",
    "    circuit.x(1)\n",
    "    circuit.x(2)\n",
    "\n",
    "    # Apply the necessary gates to solve the puzzle.\n",
    "    circuit.ccx(0, 1, 2)\n",
    "\n",
    "    return circuit\n",
    "\n",
    "def production_system_circuit():\n",
    "    \"\"\"Creates a quantum circuit for Tarrataca's quantum production system.\"\"\"\n",
    "    circuit = QuantumCircuit(3)\n",
    "\n",
    "    # Apply the three-puzzle circuit to each input qubit.\n",
    "    circuit.append(three_puzzle_circuit(), [0, 1, 2])\n",
    "\n",
    "    # Apply a measurement to each output qubit.\n",
    "    circuit.measure_all()\n",
    "\n",
    "    return circuit\n",
    "\n",
    "backend = q.Aer.get_backend('qasm_simulator')\n",
    "transpiled_circuit = transpile(production_system_circuit(), backend)\n",
    "\n",
    "job = q.execute(transpiled_circuit, backend)\n",
    "results = job.result()\n",
    "\n",
    "solved = any(count > 0 for count in results.get_counts().values())\n",
    "\n",
    "print('Solved:', solved)\n"
   ]
  },
  {
   "cell_type": "code",
   "execution_count": null,
   "id": "5c873704",
   "metadata": {},
   "outputs": [],
   "source": []
  }
 ],
 "metadata": {
  "kernelspec": {
   "display_name": "Python 3 (ipykernel)",
   "language": "python",
   "name": "python3"
  },
  "language_info": {
   "codemirror_mode": {
    "name": "ipython",
    "version": 3
   },
   "file_extension": ".py",
   "mimetype": "text/x-python",
   "name": "python",
   "nbconvert_exporter": "python",
   "pygments_lexer": "ipython3",
   "version": "3.9.13"
  }
 },
 "nbformat": 4,
 "nbformat_minor": 5
}
