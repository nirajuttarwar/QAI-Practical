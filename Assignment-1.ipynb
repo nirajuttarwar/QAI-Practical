{
 "cells": [
  {
   "cell_type": "markdown",
   "id": "97609154",
   "metadata": {},
   "source": [
    "#                                   QAI Assignment-1"
   ]
  },
  {
   "cell_type": "code",
   "execution_count": 27,
   "id": "3e15a4c4",
   "metadata": {},
   "outputs": [
    {
     "name": "stdout",
     "output_type": "stream",
     "text": [
      "Quantum Circuit:\n",
      "      ┌───┐┌─┐                                             \n",
      " q_0: ┤ H ├┤M├─────────────────────────────────────────────\n",
      "      ├───┤└╥┘┌─┐                                          \n",
      " q_1: ┤ H ├─╫─┤M├──────────────────────────────────────────\n",
      "      ├───┤ ║ └╥┘┌─┐                                       \n",
      " q_2: ┤ H ├─╫──╫─┤M├───────────────────────────────────────\n",
      "      ├───┤ ║  ║ └╥┘┌─┐                                    \n",
      " q_3: ┤ H ├─╫──╫──╫─┤M├────────────────────────────────────\n",
      "      ├───┤ ║  ║  ║ └╥┘┌─┐                                 \n",
      " q_4: ┤ H ├─╫──╫──╫──╫─┤M├─────────────────────────────────\n",
      "      ├───┤ ║  ║  ║  ║ └╥┘┌─┐                              \n",
      " q_5: ┤ H ├─╫──╫──╫──╫──╫─┤M├──────────────────────────────\n",
      "      ├───┤ ║  ║  ║  ║  ║ └╥┘┌─┐                           \n",
      " q_6: ┤ H ├─╫──╫──╫──╫──╫──╫─┤M├───────────────────────────\n",
      "      ├───┤ ║  ║  ║  ║  ║  ║ └╥┘┌─┐                        \n",
      " q_7: ┤ H ├─╫──╫──╫──╫──╫──╫──╫─┤M├────────────────────────\n",
      "      ├───┤ ║  ║  ║  ║  ║  ║  ║ └╥┘┌─┐                     \n",
      " q_8: ┤ H ├─╫──╫──╫──╫──╫──╫──╫──╫─┤M├─────────────────────\n",
      "      ├───┤ ║  ║  ║  ║  ║  ║  ║  ║ └╥┘┌─┐                  \n",
      " q_9: ┤ H ├─╫──╫──╫──╫──╫──╫──╫──╫──╫─┤M├──────────────────\n",
      "      ├───┤ ║  ║  ║  ║  ║  ║  ║  ║  ║ └╥┘┌─┐               \n",
      "q_10: ┤ H ├─╫──╫──╫──╫──╫──╫──╫──╫──╫──╫─┤M├───────────────\n",
      "      ├───┤ ║  ║  ║  ║  ║  ║  ║  ║  ║  ║ └╥┘┌─┐            \n",
      "q_11: ┤ H ├─╫──╫──╫──╫──╫──╫──╫──╫──╫──╫──╫─┤M├────────────\n",
      "      ├───┤ ║  ║  ║  ║  ║  ║  ║  ║  ║  ║  ║ └╥┘┌─┐         \n",
      "q_12: ┤ H ├─╫──╫──╫──╫──╫──╫──╫──╫──╫──╫──╫──╫─┤M├─────────\n",
      "      ├───┤ ║  ║  ║  ║  ║  ║  ║  ║  ║  ║  ║  ║ └╥┘┌─┐      \n",
      "q_13: ┤ H ├─╫──╫──╫──╫──╫──╫──╫──╫──╫──╫──╫──╫──╫─┤M├──────\n",
      "      ├───┤ ║  ║  ║  ║  ║  ║  ║  ║  ║  ║  ║  ║  ║ └╥┘┌─┐   \n",
      "q_14: ┤ H ├─╫──╫──╫──╫──╫──╫──╫──╫──╫──╫──╫──╫──╫──╫─┤M├───\n",
      "      ├───┤ ║  ║  ║  ║  ║  ║  ║  ║  ║  ║  ║  ║  ║  ║ └╥┘┌─┐\n",
      "q_15: ┤ H ├─╫──╫──╫──╫──╫──╫──╫──╫──╫──╫──╫──╫──╫──╫──╫─┤M├\n",
      "      └───┘ ║  ║  ║  ║  ║  ║  ║  ║  ║  ║  ║  ║  ║  ║  ║ └╥┘\n",
      "c: 16/══════╩══╩══╩══╩══╩══╩══╩══╩══╩══╩══╩══╩══╩══╩══╩══╩═\n",
      "            0  1  2  3  4  5  6  7  8  9  10 11 12 13 14 15\n",
      "\n",
      "Measurement Result: {'1100100011010111': 1}\n"
     ]
    }
   ],
   "source": [
    "from qiskit import QuantumRegister, ClassicalRegister, QuantumCircuit, execute, Aer\n",
    "\n",
    "# Create a 16-qubit quantum register and a classical register\n",
    "q = QuantumRegister(16, 'q')\n",
    "c = ClassicalRegister(16, 'c')\n",
    "\n",
    "# Create a quantum circuit\n",
    "circuit = QuantumCircuit(q, c)\n",
    "\n",
    "# Apply Hadamard gates to all qubits\n",
    "circuit.h(q)\n",
    "\n",
    "# Measure all qubits and store the results in classical bits\n",
    "circuit.measure(q, c)\n",
    "\n",
    "# Draw the circuit\n",
    "print(\"Quantum Circuit:\")\n",
    "print(circuit.draw())\n",
    "\n",
    "# Simulate the circuit using Aer's qasm_simulator\n",
    "simulator = Aer.get_backend('qasm_simulator')\n",
    "job = execute(circuit, simulator, shots=1)\n",
    "\n",
    "# Get the measurement result\n",
    "result = job.result()\n",
    "counts = result.get_counts(circuit)\n",
    "print(\"\\nMeasurement Result:\", counts)\n"
   ]
  }
 ],
 "metadata": {
  "kernelspec": {
   "display_name": "Python 3 (ipykernel)",
   "language": "python",
   "name": "python3"
  },
  "language_info": {
   "codemirror_mode": {
    "name": "ipython",
    "version": 3
   },
   "file_extension": ".py",
   "mimetype": "text/x-python",
   "name": "python",
   "nbconvert_exporter": "python",
   "pygments_lexer": "ipython3",
   "version": "3.9.13"
  }
 },
 "nbformat": 4,
 "nbformat_minor": 5
}
