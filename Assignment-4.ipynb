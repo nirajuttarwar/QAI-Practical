{
 "cells": [
  {
   "cell_type": "markdown",
   "id": "cda7a9ad",
   "metadata": {},
   "source": [
    "# QAI Assignment-4"
   ]
  },
  {
   "cell_type": "code",
   "execution_count": 1,
   "id": "629fba7c",
   "metadata": {},
   "outputs": [],
   "source": [
    "from warnings import filterwarnings\n",
    "filterwarnings(\"ignore\")"
   ]
  },
  {
   "cell_type": "markdown",
   "id": "5ebdb519",
   "metadata": {},
   "source": [
    "# Importing Libraries"
   ]
  },
  {
   "cell_type": "code",
   "execution_count": 3,
   "id": "445160a8",
   "metadata": {},
   "outputs": [],
   "source": [
    "from qiskit import QuantumCircuit, Aer, execute\n",
    "from qiskit.visualization import plot_bloch_multivector, plot_histogram\n",
    "from qiskit.providers.aer.noise import NoiseModel, errors"
   ]
  },
  {
   "cell_type": "markdown",
   "id": "ed8f1360",
   "metadata": {},
   "source": [
    "# A quantum circuit with 3 qubits (1 data qubit and 2 code qubits)"
   ]
  },
  {
   "cell_type": "code",
   "execution_count": 6,
   "id": "a6f4b1ae",
   "metadata": {},
   "outputs": [
    {
     "data": {
      "text/plain": [
       "<qiskit.circuit.instructionset.InstructionSet at 0x1e7f96dd8e0>"
      ]
     },
     "execution_count": 6,
     "metadata": {},
     "output_type": "execute_result"
    }
   ],
   "source": [
    "qc.initialize(initial_state, 0)"
   ]
  },
  {
   "cell_type": "markdown",
   "id": "be047178",
   "metadata": {},
   "source": [
    "# The bit-flip error correction code"
   ]
  },
  {
   "cell_type": "code",
   "execution_count": 7,
   "id": "3b0b09eb",
   "metadata": {},
   "outputs": [
    {
     "data": {
      "text/plain": [
       "<qiskit.circuit.instructionset.InstructionSet at 0x1e79ec8e970>"
      ]
     },
     "execution_count": 7,
     "metadata": {},
     "output_type": "execute_result"
    }
   ],
   "source": [
    "# Encoding: |0⟩ -> |000⟩, |1⟩ -> |111⟩\n",
    "qc.cx(0, 1)\n",
    "qc.cx(0, 2)"
   ]
  },
  {
   "cell_type": "markdown",
   "id": "e0c0bcf3",
   "metadata": {},
   "source": [
    "# Simulate a bit-flip error on the data qubit"
   ]
  },
  {
   "cell_type": "code",
   "execution_count": 8,
   "id": "284309fb",
   "metadata": {},
   "outputs": [
    {
     "data": {
      "text/plain": [
       "<qiskit.circuit.instructionset.InstructionSet at 0x1e7f9b594f0>"
      ]
     },
     "execution_count": 8,
     "metadata": {},
     "output_type": "execute_result"
    }
   ],
   "source": [
    "error = errors.depolarizing_error(0.1, 1)\n",
    "qc.append(error, [0])"
   ]
  },
  {
   "cell_type": "markdown",
   "id": "754c59df",
   "metadata": {},
   "source": [
    "# Decoding: Correct the error using the code qubits"
   ]
  },
  {
   "cell_type": "code",
   "execution_count": 9,
   "id": "1cd6541c",
   "metadata": {},
   "outputs": [
    {
     "data": {
      "text/plain": [
       "<qiskit.circuit.instructionset.InstructionSet at 0x1e7f9b8c730>"
      ]
     },
     "execution_count": 9,
     "metadata": {},
     "output_type": "execute_result"
    }
   ],
   "source": [
    "qc.cx(0, 1)\n",
    "qc.cx(0, 2)\n",
    "qc.ccx(2, 1, 0)"
   ]
  },
  {
   "cell_type": "code",
   "execution_count": 10,
   "id": "be4bfb1a",
   "metadata": {},
   "outputs": [
    {
     "data": {
      "text/plain": [
       "<qiskit.circuit.instructionset.InstructionSet at 0x1e79ec8e910>"
      ]
     },
     "execution_count": 10,
     "metadata": {},
     "output_type": "execute_result"
    }
   ],
   "source": [
    "qc.measure([0, 1, 2], [0, 1, 2])"
   ]
  },
  {
   "cell_type": "markdown",
   "id": "a9a74136",
   "metadata": {},
   "source": [
    "# Simulate the quantum circuit with noise"
   ]
  },
  {
   "cell_type": "code",
   "execution_count": 11,
   "id": "c7ac5f13",
   "metadata": {},
   "outputs": [],
   "source": [
    "noise_model = NoiseModel()\n",
    "noise_model.add_all_qubit_quantum_error(error, 'id')\n",
    "simulator = Aer.get_backend('qasm_simulator')\n",
    "job = execute(qc, simulator, noise_model=noise_model, shots=1024)\n",
    "result = job.result()\n",
    "counts = result.get_counts(qc)"
   ]
  },
  {
   "cell_type": "markdown",
   "id": "5219cf52",
   "metadata": {},
   "source": [
    "# Visualize the results"
   ]
  },
  {
   "cell_type": "code",
   "execution_count": 12,
   "id": "83e843f7",
   "metadata": {},
   "outputs": [
    {
     "name": "stdout",
     "output_type": "stream",
     "text": [
      "Counts: {'001': 978, '111': 46}\n"
     ]
    },
    {
     "data": {
      "image/png": "[encoded data removed]",
      "text/plain": [
       "<Figure size 700x500 with 1 Axes>"
      ]
     },
     "execution_count": 12,
     "metadata": {},
     "output_type": "execute_result"
    }
   ],
   "source": [
    "print(\"Counts:\", counts)\n",
    "plot_histogram(counts)"
   ]
  },
  {
   "cell_type": "code",
   "execution_count": null,
   "id": "33fe939f",
   "metadata": {},
   "outputs": [],
   "source": []
  }
 ],
 "metadata": {
  "kernelspec": {
   "display_name": "Python 3 (ipykernel)",
   "language": "python",
   "name": "python3"
  },
  "language_info": {
   "codemirror_mode": {
    "name": "ipython",
    "version": 3
   },
   "file_extension": ".py",
   "mimetype": "text/x-python",
   "name": "python",
   "nbconvert_exporter": "python",
   "pygments_lexer": "ipython3",
   "version": "3.9.13"
  }
 },
 "nbformat": 4,
 "nbformat_minor": 5
}
